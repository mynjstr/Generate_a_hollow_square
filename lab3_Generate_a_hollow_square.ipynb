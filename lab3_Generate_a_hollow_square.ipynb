{
 "cells": [
  {
   "cell_type": "markdown",
   "id": "658b664b-d45a-442c-9de5-ed329729a0df",
   "metadata": {},
   "source": [
    "# Lab Exercise 3"
   ]
  },
  {
   "cell_type": "markdown",
   "id": "d489cc13-edb9-4154-b736-a97d65efaac2",
   "metadata": {},
   "source": [
    "### Generate a hollow square based on the + integer input side length n."
   ]
  },
  {
   "cell_type": "code",
   "execution_count": 3,
   "id": "a27f8fe1-cb0c-40de-990b-d162234cbf6c",
   "metadata": {},
   "outputs": [
    {
     "name": "stdin",
     "output_type": "stream",
     "text": [
      "Enter the side length of the square:  6\n"
     ]
    },
    {
     "name": "stdout",
     "output_type": "stream",
     "text": [
      "+ + + + + + \n",
      "+         + \n",
      "+         + \n",
      "+         + \n",
      "+         + \n",
      "+ + + + + + \n"
     ]
    }
   ],
   "source": [
    "def generate_hollow_square(length):\n",
    "    for row in range(length):\n",
    "        for column in range(length):\n",
    "            if row == 0 or row == length - 1 or column == 0 or column == length - 1:\n",
    "                print(\"+\",end=\" \")\n",
    "            else:\n",
    "                print(\" \",end=\" \")\n",
    "        print()\n",
    "\n",
    "while True:\n",
    "    try:\n",
    "        length = int(input(\"Enter the side length of the square: \"))\n",
    "        break\n",
    "    except ValueError:\n",
    "        print(\"Please enter a number!\")\n",
    "\n",
    "generate_hollow_square(length)"
   ]
  }
 ],
 "metadata": {
  "kernelspec": {
   "display_name": "Python 3 (ipykernel)",
   "language": "python",
   "name": "python3"
  },
  "language_info": {
   "codemirror_mode": {
    "name": "ipython",
    "version": 3
   },
   "file_extension": ".py",
   "mimetype": "text/x-python",
   "name": "python",
   "nbconvert_exporter": "python",
   "pygments_lexer": "ipython3",
   "version": "3.12.1"
  }
 },
 "nbformat": 4,
 "nbformat_minor": 5
}
